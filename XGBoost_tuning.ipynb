{
  "cells": [
    {
      "cell_type": "code",
      "execution_count": 24,
      "metadata": {
        "id": "8I5xyuVvQmUP"
      },
      "outputs": [],
      "source": [
        "import pandas as pd\n",
        "import pickle"
      ]
    },
    {
      "cell_type": "code",
      "execution_count": 25,
      "metadata": {
        "id": "ztNv-rL4QeFA"
      },
      "outputs": [],
      "source": [
        "with open('/content/drive/MyDrive/datasets/ps_split_data_dict.pickle', 'rb') as file:\n",
        "    data_dict = pickle.load(file)"
      ]
    },
    {
      "cell_type": "code",
      "execution_count": 26,
      "metadata": {
        "id": "fZQXzW5mbw3R"
      },
      "outputs": [],
      "source": [
        "X_train, X_val, X_holdout = data_dict['X_train'], data_dict['X_val'], data_dict['X_holdout']"
      ]
    },
    {
      "cell_type": "code",
      "execution_count": 27,
      "metadata": {
        "id": "6o-aO0qeb759"
      },
      "outputs": [],
      "source": [
        "y_train, y_val, y_holdout = data_dict['y_train'], data_dict['y_val'], data_dict['y_holdout']"
      ]
    },
    {
      "cell_type": "code",
      "execution_count": 28,
      "metadata": {
        "id": "7VKkBVAkgyLy"
      },
      "outputs": [],
      "source": [
        "from sklearn.metrics import roc_auc_score, f1_score, confusion_matrix\n",
        "from xgboost import XGBClassifier"
      ]
    },
    {
      "cell_type": "code",
      "execution_count": 29,
      "metadata": {
        "id": "ITUbNPROZob2"
      },
      "outputs": [],
      "source": [
        "%run /content/drive/MyDrive/Colab\\ Notebooks/common_functions.ipynb"
      ]
    },
    {
      "cell_type": "code",
      "execution_count": 30,
      "metadata": {
        "id": "_Bgk4OKquS_g"
      },
      "outputs": [],
      "source": [
        "xgb = XGBClassifier(learning_rate=0.02, n_estimators=600, objective='binary:logistic',\n",
        "                    silent=True, nthread=1)"
      ]
    },
    {
      "cell_type": "code",
      "execution_count": 35,
      "metadata": {
        "colab": {
          "base_uri": "https://localhost:8080/"
        },
        "id": "ymmdzi3gufv1",
        "outputId": "e1438d04-cde1-47af-dd49-6f40ed9fcf39"
      },
      "outputs": [
        {
          "output_type": "stream",
          "name": "stdout",
          "text": [
            "Recall: 0.000 \n",
            "Precision: 0.000\n",
            "F1: 0.000 \n",
            "Accuracy: 0.963 \n",
            "ROC AUC: 0.638\n"
          ]
        }
      ],
      "source": [
        "fit_and_score(xgb, X_train, y_train, X_val, y_val)"
      ]
    },
    {
      "cell_type": "code",
      "execution_count": 36,
      "metadata": {
        "id": "DKomeBQTwdIm"
      },
      "outputs": [],
      "source": [
        "import plotly.graph_objs as go\n",
        "import plotly.tools as tls\n",
        "import plotly.offline as py"
      ]
    },
    {
      "cell_type": "code",
      "execution_count": 37,
      "metadata": {
        "colab": {
          "base_uri": "https://localhost:8080/"
        },
        "id": "_usiHVGKxf7p",
        "outputId": "dcbf7cf0-b428-4364-ab7c-b3f99a6c8ee5"
      },
      "outputs": [
        {
          "output_type": "execute_result",
          "data": {
            "text/plain": [
              "58"
            ]
          },
          "metadata": {},
          "execution_count": 37
        }
      ],
      "source": [
        "len(X_train.columns.values)"
      ]
    },
    {
      "cell_type": "code",
      "execution_count": 38,
      "metadata": {
        "colab": {
          "base_uri": "https://localhost:8080/"
        },
        "id": "i84IxvbGyFM4",
        "outputId": "9156b1e9-6fa0-4318-9412-19436441204f"
      },
      "outputs": [
        {
          "output_type": "execute_result",
          "data": {
            "text/plain": [
              "58"
            ]
          },
          "metadata": {},
          "execution_count": 38
        }
      ],
      "source": [
        "len(xgb.feature_importances_)"
      ]
    },
    {
      "cell_type": "code",
      "execution_count": 39,
      "metadata": {
        "id": "Ak7ovaLWxWoC"
      },
      "outputs": [],
      "source": [
        "features = X_train.columns.values"
      ]
    },
    {
      "cell_type": "code",
      "execution_count": 40,
      "metadata": {
        "colab": {
          "base_uri": "https://localhost:8080/",
          "height": 1000
        },
        "id": "nDoDHfthw1gw",
        "outputId": "893ae73f-e128-4a60-cb1c-c8b89846bed0"
      },
      "outputs": [
        {
          "output_type": "display_data",
          "data": {
            "text/html": [
              "<html>\n",
              "<head><meta charset=\"utf-8\" /></head>\n",
              "<body>\n",
              "    <div>\n",
              "            <script src=\"https://cdnjs.cloudflare.com/ajax/libs/mathjax/2.7.5/MathJax.js?config=TeX-AMS-MML_SVG\"></script><script type=\"text/javascript\">if (window.MathJax) {MathJax.Hub.Config({SVG: {font: \"STIX-Web\"}});}</script>\n",
              "                <script type=\"text/javascript\">window.PlotlyConfig = {MathJaxConfig: 'local'};</script>\n",
              "        <script src=\"https://cdn.plot.ly/plotly-latest.min.js\"></script>    \n",
              "            <div id=\"5f3d7db8-4231-4cd8-8f45-fbba59742f7b\" class=\"plotly-graph-div\" style=\"height:2000px; width:900px;\"></div>\n",
              "            <script type=\"text/javascript\">\n",
              "                \n",
              "                    window.PLOTLYENV=window.PLOTLYENV || {};\n",
              "                    \n",
              "                if (document.getElementById(\"5f3d7db8-4231-4cd8-8f45-fbba59742f7b\")) {\n",
              "                    Plotly.newPlot(\n",
              "                        '5f3d7db8-4231-4cd8-8f45-fbba59742f7b',\n",
              "                        [{\"marker\": {\"color\": [0.07734215259552002, 0.05984332412481308, 0.057023972272872925, 0.04787253588438034, 0.04490228369832039, 0.044335976243019104, 0.039989251643419266, 0.03899327665567398, 0.03489816188812256, 0.027220899239182472, 0.026764778420329094, 0.025582626461982727, 0.025324389338493347, 0.02465517818927765, 0.022263197228312492, 0.02015209011733532, 0.0195534098893404, 0.019037753343582153, 0.01657821051776409, 0.016535326838493347, 0.01598983444273472, 0.015708226710557938, 0.015293065458536148, 0.014088787138462067, 0.012785748578608036, 0.011416096240282059, 0.011380069889128208, 0.01123968604952097, 0.01060539111495018, 0.010474671609699726, 0.010224842466413975, 0.010167720727622509, 0.01014185231178999, 0.010105017572641373, 0.009915630333125591, 0.009588322602212429, 0.009385046549141407, 0.009328841231763363, 0.009131085127592087, 0.008766754530370235, 0.008724567480385303, 0.008680327795445919, 0.008621254935860634, 0.008564427495002747, 0.008414971642196178, 0.00766889750957489, 0.007591199595481157, 0.007572343572974205, 0.007304281461983919, 0.006734858267009258, 0.005517405923455954, 0.0, 0.0, 0.0, 0.0, 0.0, 0.0, 0.0], \"colorscale\": [[0.0, \"#440154\"], [0.1111111111111111, \"#482878\"], [0.2222222222222222, \"#3e4989\"], [0.3333333333333333, \"#31688e\"], [0.4444444444444444, \"#26828e\"], [0.5555555555555556, \"#1f9e89\"], [0.6666666666666666, \"#35b779\"], [0.7777777777777778, \"#6ece58\"], [0.8888888888888888, \"#b5de2b\"], [1.0, \"#fde725\"]], \"reversescale\": true}, \"name\": \"Gradient Boosting Classifer Feature importance\", \"orientation\": \"h\", \"type\": \"bar\", \"x\": [0.07734215259552002, 0.05984332412481308, 0.057023972272872925, 0.04787253588438034, 0.04490228369832039, 0.044335976243019104, 0.039989251643419266, 0.03899327665567398, 0.03489816188812256, 0.027220899239182472, 0.026764778420329094, 0.025582626461982727, 0.025324389338493347, 0.02465517818927765, 0.022263197228312492, 0.02015209011733532, 0.0195534098893404, 0.019037753343582153, 0.01657821051776409, 0.016535326838493347, 0.01598983444273472, 0.015708226710557938, 0.015293065458536148, 0.014088787138462067, 0.012785748578608036, 0.011416096240282059, 0.011380069889128208, 0.01123968604952097, 0.01060539111495018, 0.010474671609699726, 0.010224842466413975, 0.010167720727622509, 0.01014185231178999, 0.010105017572641373, 0.009915630333125591, 0.009588322602212429, 0.009385046549141407, 0.009328841231763363, 0.009131085127592087, 0.008766754530370235, 0.008724567480385303, 0.008680327795445919, 0.008621254935860634, 0.008564427495002747, 0.008414971642196178, 0.00766889750957489, 0.007591199595481157, 0.007572343572974205, 0.007304281461983919, 0.006734858267009258, 0.005517405923455954, 0.0, 0.0, 0.0, 0.0, 0.0, 0.0, 0.0], \"y\": [\"ps_ind_06_bin\", \"ps_ind_07_bin\", \"ps_car_13\", \"ps_car_07_cat\", \"ps_ind_16_bin\", \"ps_ind_17_bin\", \"ps_car_03_cat\", \"ps_ind_05_cat\", \"ps_reg_03\", \"ps_ind_15\", \"ps_car_01_cat\", \"ps_reg_01\", \"ps_ind_03\", \"ps_ind_09_bin\", \"ps_reg_02\", \"ps_car_11\", \"ps_ind_02_cat\", \"ps_car_15\", \"ps_ind_04_cat\", \"ps_car_09_cat\", \"ps_ind_12_bin\", \"ps_ind_01\", \"ps_car_05_cat\", \"ps_ind_08_bin\", \"ps_calc_15_bin\", \"ps_car_06_cat\", \"ps_car_14\", \"ps_calc_11\", \"ps_calc_02\", \"ps_car_12\", \"ps_calc_09\", \"ps_calc_07\", \"ps_car_08_cat\", \"ps_car_11_cat\", \"ps_car_04_cat\", \"ps_calc_18_bin\", \"ps_ind_18_bin\", \"id\", \"ps_calc_20_bin\", \"ps_calc_13\", \"ps_calc_03\", \"ps_calc_08\", \"ps_calc_01\", \"ps_calc_14\", \"ps_calc_12\", \"ps_calc_10\", \"ps_calc_04\", \"ps_calc_06\", \"ps_calc_05\", \"ps_ind_14\", \"ps_car_02_cat\", \"ps_ind_13_bin\", \"ps_ind_11_bin\", \"ps_ind_10_bin\", \"ps_car_10_cat\", \"ps_calc_19_bin\", \"ps_calc_17_bin\", \"ps_calc_16_bin\"]}],\n",
              "                        {\"height\": 2000, \"template\": {\"data\": {\"bar\": [{\"error_x\": {\"color\": \"#2a3f5f\"}, \"error_y\": {\"color\": \"#2a3f5f\"}, \"marker\": {\"line\": {\"color\": \"#E5ECF6\", \"width\": 0.5}}, \"type\": \"bar\"}], \"barpolar\": [{\"marker\": {\"line\": {\"color\": \"#E5ECF6\", \"width\": 0.5}}, \"type\": \"barpolar\"}], \"carpet\": [{\"aaxis\": {\"endlinecolor\": \"#2a3f5f\", \"gridcolor\": \"white\", \"linecolor\": \"white\", \"minorgridcolor\": \"white\", \"startlinecolor\": \"#2a3f5f\"}, \"baxis\": {\"endlinecolor\": \"#2a3f5f\", \"gridcolor\": \"white\", \"linecolor\": \"white\", \"minorgridcolor\": \"white\", \"startlinecolor\": \"#2a3f5f\"}, \"type\": \"carpet\"}], \"choropleth\": [{\"colorbar\": {\"outlinewidth\": 0, \"ticks\": \"\"}, \"type\": \"choropleth\"}], \"contour\": [{\"colorbar\": {\"outlinewidth\": 0, \"ticks\": \"\"}, \"colorscale\": [[0.0, \"#0d0887\"], [0.1111111111111111, \"#46039f\"], [0.2222222222222222, \"#7201a8\"], [0.3333333333333333, \"#9c179e\"], [0.4444444444444444, \"#bd3786\"], [0.5555555555555556, \"#d8576b\"], [0.6666666666666666, \"#ed7953\"], [0.7777777777777778, \"#fb9f3a\"], [0.8888888888888888, \"#fdca26\"], [1.0, \"#f0f921\"]], \"type\": \"contour\"}], \"contourcarpet\": [{\"colorbar\": {\"outlinewidth\": 0, \"ticks\": \"\"}, \"type\": \"contourcarpet\"}], \"heatmap\": [{\"colorbar\": {\"outlinewidth\": 0, \"ticks\": \"\"}, \"colorscale\": [[0.0, \"#0d0887\"], [0.1111111111111111, \"#46039f\"], [0.2222222222222222, \"#7201a8\"], [0.3333333333333333, \"#9c179e\"], [0.4444444444444444, \"#bd3786\"], [0.5555555555555556, \"#d8576b\"], [0.6666666666666666, \"#ed7953\"], [0.7777777777777778, \"#fb9f3a\"], [0.8888888888888888, \"#fdca26\"], [1.0, \"#f0f921\"]], \"type\": \"heatmap\"}], \"heatmapgl\": [{\"colorbar\": {\"outlinewidth\": 0, \"ticks\": \"\"}, \"colorscale\": [[0.0, \"#0d0887\"], [0.1111111111111111, \"#46039f\"], [0.2222222222222222, \"#7201a8\"], [0.3333333333333333, \"#9c179e\"], [0.4444444444444444, \"#bd3786\"], [0.5555555555555556, \"#d8576b\"], [0.6666666666666666, \"#ed7953\"], [0.7777777777777778, \"#fb9f3a\"], [0.8888888888888888, \"#fdca26\"], [1.0, \"#f0f921\"]], \"type\": \"heatmapgl\"}], \"histogram\": [{\"marker\": {\"colorbar\": {\"outlinewidth\": 0, \"ticks\": \"\"}}, \"type\": \"histogram\"}], \"histogram2d\": [{\"colorbar\": {\"outlinewidth\": 0, \"ticks\": \"\"}, \"colorscale\": [[0.0, \"#0d0887\"], [0.1111111111111111, \"#46039f\"], [0.2222222222222222, \"#7201a8\"], [0.3333333333333333, \"#9c179e\"], [0.4444444444444444, \"#bd3786\"], [0.5555555555555556, \"#d8576b\"], [0.6666666666666666, \"#ed7953\"], [0.7777777777777778, \"#fb9f3a\"], [0.8888888888888888, \"#fdca26\"], [1.0, \"#f0f921\"]], \"type\": \"histogram2d\"}], \"histogram2dcontour\": [{\"colorbar\": {\"outlinewidth\": 0, \"ticks\": \"\"}, \"colorscale\": [[0.0, \"#0d0887\"], [0.1111111111111111, \"#46039f\"], [0.2222222222222222, \"#7201a8\"], [0.3333333333333333, \"#9c179e\"], [0.4444444444444444, \"#bd3786\"], [0.5555555555555556, \"#d8576b\"], [0.6666666666666666, \"#ed7953\"], [0.7777777777777778, \"#fb9f3a\"], [0.8888888888888888, \"#fdca26\"], [1.0, \"#f0f921\"]], \"type\": \"histogram2dcontour\"}], \"mesh3d\": [{\"colorbar\": {\"outlinewidth\": 0, \"ticks\": \"\"}, \"type\": \"mesh3d\"}], \"parcoords\": [{\"line\": {\"colorbar\": {\"outlinewidth\": 0, \"ticks\": \"\"}}, \"type\": \"parcoords\"}], \"pie\": [{\"automargin\": true, \"type\": \"pie\"}], \"scatter\": [{\"marker\": {\"colorbar\": {\"outlinewidth\": 0, \"ticks\": \"\"}}, \"type\": \"scatter\"}], \"scatter3d\": [{\"line\": {\"colorbar\": {\"outlinewidth\": 0, \"ticks\": \"\"}}, \"marker\": {\"colorbar\": {\"outlinewidth\": 0, \"ticks\": \"\"}}, \"type\": \"scatter3d\"}], \"scattercarpet\": [{\"marker\": {\"colorbar\": {\"outlinewidth\": 0, \"ticks\": \"\"}}, \"type\": \"scattercarpet\"}], \"scattergeo\": [{\"marker\": {\"colorbar\": {\"outlinewidth\": 0, \"ticks\": \"\"}}, \"type\": \"scattergeo\"}], \"scattergl\": [{\"marker\": {\"colorbar\": {\"outlinewidth\": 0, \"ticks\": \"\"}}, \"type\": \"scattergl\"}], \"scattermapbox\": [{\"marker\": {\"colorbar\": {\"outlinewidth\": 0, \"ticks\": \"\"}}, \"type\": \"scattermapbox\"}], \"scatterpolar\": [{\"marker\": {\"colorbar\": {\"outlinewidth\": 0, \"ticks\": \"\"}}, \"type\": \"scatterpolar\"}], \"scatterpolargl\": [{\"marker\": {\"colorbar\": {\"outlinewidth\": 0, \"ticks\": \"\"}}, \"type\": \"scatterpolargl\"}], \"scatterternary\": [{\"marker\": {\"colorbar\": {\"outlinewidth\": 0, \"ticks\": \"\"}}, \"type\": \"scatterternary\"}], \"surface\": [{\"colorbar\": {\"outlinewidth\": 0, \"ticks\": \"\"}, \"colorscale\": [[0.0, \"#0d0887\"], [0.1111111111111111, \"#46039f\"], [0.2222222222222222, \"#7201a8\"], [0.3333333333333333, \"#9c179e\"], [0.4444444444444444, \"#bd3786\"], [0.5555555555555556, \"#d8576b\"], [0.6666666666666666, \"#ed7953\"], [0.7777777777777778, \"#fb9f3a\"], [0.8888888888888888, \"#fdca26\"], [1.0, \"#f0f921\"]], \"type\": \"surface\"}], \"table\": [{\"cells\": {\"fill\": {\"color\": \"#EBF0F8\"}, \"line\": {\"color\": \"white\"}}, \"header\": {\"fill\": {\"color\": \"#C8D4E3\"}, \"line\": {\"color\": \"white\"}}, \"type\": \"table\"}]}, \"layout\": {\"annotationdefaults\": {\"arrowcolor\": \"#2a3f5f\", \"arrowhead\": 0, \"arrowwidth\": 1}, \"coloraxis\": {\"colorbar\": {\"outlinewidth\": 0, \"ticks\": \"\"}}, \"colorscale\": {\"diverging\": [[0, \"#8e0152\"], [0.1, \"#c51b7d\"], [0.2, \"#de77ae\"], [0.3, \"#f1b6da\"], [0.4, \"#fde0ef\"], [0.5, \"#f7f7f7\"], [0.6, \"#e6f5d0\"], [0.7, \"#b8e186\"], [0.8, \"#7fbc41\"], [0.9, \"#4d9221\"], [1, \"#276419\"]], \"sequential\": [[0.0, \"#0d0887\"], [0.1111111111111111, \"#46039f\"], [0.2222222222222222, \"#7201a8\"], [0.3333333333333333, \"#9c179e\"], [0.4444444444444444, \"#bd3786\"], [0.5555555555555556, \"#d8576b\"], [0.6666666666666666, \"#ed7953\"], [0.7777777777777778, \"#fb9f3a\"], [0.8888888888888888, \"#fdca26\"], [1.0, \"#f0f921\"]], \"sequentialminus\": [[0.0, \"#0d0887\"], [0.1111111111111111, \"#46039f\"], [0.2222222222222222, \"#7201a8\"], [0.3333333333333333, \"#9c179e\"], [0.4444444444444444, \"#bd3786\"], [0.5555555555555556, \"#d8576b\"], [0.6666666666666666, \"#ed7953\"], [0.7777777777777778, \"#fb9f3a\"], [0.8888888888888888, \"#fdca26\"], [1.0, \"#f0f921\"]]}, \"colorway\": [\"#636efa\", \"#EF553B\", \"#00cc96\", \"#ab63fa\", \"#FFA15A\", \"#19d3f3\", \"#FF6692\", \"#B6E880\", \"#FF97FF\", \"#FECB52\"], \"font\": {\"color\": \"#2a3f5f\"}, \"geo\": {\"bgcolor\": \"white\", \"lakecolor\": \"white\", \"landcolor\": \"#E5ECF6\", \"showlakes\": true, \"showland\": true, \"subunitcolor\": \"white\"}, \"hoverlabel\": {\"align\": \"left\"}, \"hovermode\": \"closest\", \"mapbox\": {\"style\": \"light\"}, \"paper_bgcolor\": \"white\", \"plot_bgcolor\": \"#E5ECF6\", \"polar\": {\"angularaxis\": {\"gridcolor\": \"white\", \"linecolor\": \"white\", \"ticks\": \"\"}, \"bgcolor\": \"#E5ECF6\", \"radialaxis\": {\"gridcolor\": \"white\", \"linecolor\": \"white\", \"ticks\": \"\"}}, \"scene\": {\"xaxis\": {\"backgroundcolor\": \"#E5ECF6\", \"gridcolor\": \"white\", \"gridwidth\": 2, \"linecolor\": \"white\", \"showbackground\": true, \"ticks\": \"\", \"zerolinecolor\": \"white\"}, \"yaxis\": {\"backgroundcolor\": \"#E5ECF6\", \"gridcolor\": \"white\", \"gridwidth\": 2, \"linecolor\": \"white\", \"showbackground\": true, \"ticks\": \"\", \"zerolinecolor\": \"white\"}, \"zaxis\": {\"backgroundcolor\": \"#E5ECF6\", \"gridcolor\": \"white\", \"gridwidth\": 2, \"linecolor\": \"white\", \"showbackground\": true, \"ticks\": \"\", \"zerolinecolor\": \"white\"}}, \"shapedefaults\": {\"line\": {\"color\": \"#2a3f5f\"}}, \"ternary\": {\"aaxis\": {\"gridcolor\": \"white\", \"linecolor\": \"white\", \"ticks\": \"\"}, \"baxis\": {\"gridcolor\": \"white\", \"linecolor\": \"white\", \"ticks\": \"\"}, \"bgcolor\": \"#E5ECF6\", \"caxis\": {\"gridcolor\": \"white\", \"linecolor\": \"white\", \"ticks\": \"\"}}, \"title\": {\"x\": 0.05}, \"xaxis\": {\"automargin\": true, \"gridcolor\": \"white\", \"linecolor\": \"white\", \"ticks\": \"\", \"title\": {\"standoff\": 15}, \"zerolinecolor\": \"white\", \"zerolinewidth\": 2}, \"yaxis\": {\"automargin\": true, \"gridcolor\": \"white\", \"linecolor\": \"white\", \"ticks\": \"\", \"title\": {\"standoff\": 15}, \"zerolinecolor\": \"white\", \"zerolinewidth\": 2}}}, \"title\": {\"text\": \"Barplot of Feature importances\"}, \"width\": 900, \"yaxis\": {\"showgrid\": false, \"showline\": false, \"showticklabels\": true}},\n",
              "                        {\"responsive\": true}\n",
              "                    ).then(function(){\n",
              "                            \n",
              "var gd = document.getElementById('5f3d7db8-4231-4cd8-8f45-fbba59742f7b');\n",
              "var x = new MutationObserver(function (mutations, observer) {{\n",
              "        var display = window.getComputedStyle(gd).display;\n",
              "        if (!display || display === 'none') {{\n",
              "            console.log([gd, 'removed!']);\n",
              "            Plotly.purge(gd);\n",
              "            observer.disconnect();\n",
              "        }}\n",
              "}});\n",
              "\n",
              "// Listen for the removal of the full notebook cells\n",
              "var notebookContainer = gd.closest('#notebook-container');\n",
              "if (notebookContainer) {{\n",
              "    x.observe(notebookContainer, {childList: true});\n",
              "}}\n",
              "\n",
              "// Listen for the clearing of the current output cell\n",
              "var outputEl = gd.closest('.output');\n",
              "if (outputEl) {{\n",
              "    x.observe(outputEl, {childList: true});\n",
              "}}\n",
              "\n",
              "                        })\n",
              "                };\n",
              "                \n",
              "            </script>\n",
              "        </div>\n",
              "</body>\n",
              "</html>"
            ]
          },
          "metadata": {}
        }
      ],
      "source": [
        "x, y = (list(x) for x in zip(*sorted(zip(xgb.feature_importances_, features), \n",
        "                                                            reverse = True)))\n",
        "trace2 = go.Bar(\n",
        "    x=x ,\n",
        "    y=y,\n",
        "    marker=dict(\n",
        "        color=x,\n",
        "        colorscale = 'Viridis',\n",
        "        reversescale = True\n",
        "    ),\n",
        "    name='Gradient Boosting Classifer Feature importance',\n",
        "    orientation='h',\n",
        ")\n",
        "\n",
        "layout = dict(\n",
        "    title='Barplot of Feature importances',\n",
        "     width = 900, height = 2000,\n",
        "    yaxis=dict(\n",
        "        showgrid=False,\n",
        "        showline=False,\n",
        "        showticklabels=True,\n",
        "    ))\n",
        "\n",
        "fig1 = go.Figure(data=[trace2])\n",
        "fig1['layout'].update(layout)\n",
        "py.iplot(fig1, filename='plots')"
      ]
    },
    {
      "cell_type": "code",
      "execution_count": 41,
      "metadata": {
        "id": "v3IT35Qdz0uv"
      },
      "outputs": [],
      "source": [
        "top_25_features = y[:25]"
      ]
    },
    {
      "cell_type": "code",
      "execution_count": 42,
      "metadata": {
        "id": "1-02-Y6O1NTD"
      },
      "outputs": [],
      "source": [
        "# xgb2 = XGBClassifier(learning_rate=0.02, n_estimators=600, objective='binary:logistic',\n",
        "#                     silent=True, nthread=1)\n",
        "\n",
        "# fit_and_score(xgb2, X_train[top_25_features], y_train, X_val[top_25_features], y_val)"
      ]
    },
    {
      "cell_type": "code",
      "execution_count": 43,
      "metadata": {
        "id": "MEOlijxv2FtH"
      },
      "outputs": [],
      "source": [
        "top_9_features = y[:9]"
      ]
    },
    {
      "cell_type": "code",
      "execution_count": 44,
      "metadata": {
        "id": "nuYwx-r52Wro"
      },
      "outputs": [],
      "source": [
        "# xgb3 = XGBClassifier(learning_rate=0.02, n_estimators=600, objective='binary:logistic',\n",
        "#                     silent=True, nthread=1)\n",
        "\n",
        "# fit_and_score(xgb3, X_train[top_9_features], y_train, X_val[top_9_features], y_val)"
      ]
    },
    {
      "cell_type": "code",
      "execution_count": 45,
      "metadata": {
        "id": "LABaIU4I3jQ6"
      },
      "outputs": [],
      "source": [
        "top_18_features = y[:18]"
      ]
    },
    {
      "cell_type": "code",
      "execution_count": 46,
      "metadata": {
        "id": "b-YnShsy3jhu"
      },
      "outputs": [],
      "source": [
        "# xgb3 = XGBClassifier(learning_rate=0.02, n_estimators=600, objective='binary:logistic',\n",
        "#                     silent=True, nthread=1)\n",
        "\n",
        "# fit_and_score(xgb3, X_train[top_18_features], y_train, X_val[top_18_features], y_val)"
      ]
    },
    {
      "cell_type": "code",
      "execution_count": 47,
      "metadata": {
        "id": "KH3U7Be_6TOn"
      },
      "outputs": [],
      "source": [
        "top_28_features = y[:28]"
      ]
    },
    {
      "cell_type": "code",
      "execution_count": 48,
      "metadata": {
        "id": "1vJy3vp26Ya8"
      },
      "outputs": [],
      "source": [
        "# xgb4 = XGBClassifier(learning_rate=0.02, n_estimators=600, objective='binary:logistic',\n",
        "#                     silent=True, nthread=1)\n",
        "\n",
        "# fit_and_score(xgb4, X_train[top_28_features], y_train, X_val[top_28_features], y_val)"
      ]
    },
    {
      "cell_type": "code",
      "execution_count": 49,
      "metadata": {
        "id": "D0de40zvJISt"
      },
      "outputs": [],
      "source": [
        "X_train_25 = X_train[top_25_features]\n",
        "X_val_25 = X_val[top_25_features]\n",
        "X_holdout_25 = X_holdout[top_25_features]"
      ]
    },
    {
      "cell_type": "code",
      "source": [
        "scale_pos_weight=100"
      ],
      "metadata": {
        "id": "ur9HyKGW_qc0"
      },
      "execution_count": null,
      "outputs": []
    },
    {
      "cell_type": "code",
      "execution_count": 50,
      "metadata": {
        "id": "OvqxXYz6AHUa"
      },
      "outputs": [],
      "source": [
        "def fit_and_score_gbm(scale_pos_weight=1, max_depth=3, subsample=1, min_child_weight=1, colsample_bytree=1):\n",
        "    gbm = XGBClassifier( \n",
        "                        n_estimators=30000,\n",
        "                        max_depth=max_depth,\n",
        "                        objective='binary:logistic', \n",
        "                        learning_rate=.05, \n",
        "                        subsample=subsample,\n",
        "                        min_child_weight=min_child_weight,\n",
        "                        colsample_bytree=colsample_bytree,\n",
        "                        scale_pos_weight=26.5\n",
        "                        )\n",
        "\n",
        "    eval_set=[(X_train_25,y_train),(X_val_25,y_val)]\n",
        "    gbm.fit( \n",
        "            X_train_25, y_train, \n",
        "            eval_set=eval_set,\n",
        "            eval_metric='auc',\n",
        "            early_stopping_rounds=50,\n",
        "            verbose=False\n",
        "            )\n",
        "    auc = roc_auc_score(y_val, gbm.predict_proba(X_val_25)[:,1])\n",
        "    \n",
        "    print(f\"Scale Pos Weight: {scale_pos_weight} \\nMax Depth: {max_depth} \\nSubsample: {subsample} \\n\\\n",
        "Min Child Weight: {min_child_weight} \\nROC AUC: {auc:.3f}\\n\")"
      ]
    },
    {
      "cell_type": "code",
      "source": [
        "for max_depth in [3, 5, 7, 9]:\n",
        "\tfit_and_score_gbm(max_depth=max_depth)"
      ],
      "metadata": {
        "colab": {
          "base_uri": "https://localhost:8080/"
        },
        "id": "OdwGSs8e1EAb",
        "outputId": "554ff6a4-2ca3-4555-eab5-fe318bb969ac"
      },
      "execution_count": 51,
      "outputs": [
        {
          "output_type": "stream",
          "name": "stdout",
          "text": [
            "Scale Pos Weight: 1 \n",
            "Max Depth: 3 \n",
            "Subsample: 1 \n",
            "Min Child Weight: 1 \n",
            "ROC AUC: 0.643\n",
            "\n",
            "Scale Pos Weight: 1 \n",
            "Max Depth: 5 \n",
            "Subsample: 1 \n",
            "Min Child Weight: 1 \n",
            "ROC AUC: 0.641\n",
            "\n",
            "Scale Pos Weight: 1 \n",
            "Max Depth: 7 \n",
            "Subsample: 1 \n",
            "Min Child Weight: 1 \n",
            "ROC AUC: 0.639\n",
            "\n",
            "Scale Pos Weight: 1 \n",
            "Max Depth: 9 \n",
            "Subsample: 1 \n",
            "Min Child Weight: 1 \n",
            "ROC AUC: 0.631\n",
            "\n"
          ]
        }
      ]
    },
    {
      "cell_type": "code",
      "source": [
        "from collections import Counter\n",
        "\n",
        "# count examples in each class\n",
        "counter = Counter(y_train)\n",
        "# estimate scale_pos_weight value\n",
        "estimate = counter[0] / counter[1]\n",
        "print('Estimate: %.3f' % estimate)"
      ],
      "metadata": {
        "colab": {
          "base_uri": "https://localhost:8080/"
        },
        "id": "NRJ93qMJQ1Rd",
        "outputId": "e66748cb-2893-4ffc-fd97-d547bcf1f444"
      },
      "execution_count": 64,
      "outputs": [
        {
          "output_type": "stream",
          "name": "stdout",
          "text": [
            "Estimate: 26.528\n"
          ]
        }
      ]
    },
    {
      "cell_type": "code",
      "source": [
        "for scale_pos_weight in [20, 26.5,  30]:\n",
        "\tfit_and_score_gbm(scale_pos_weight=scale_pos_weight)"
      ],
      "metadata": {
        "colab": {
          "base_uri": "https://localhost:8080/"
        },
        "id": "hR6ikg0t65Hh",
        "outputId": "52e0c2d6-bc42-49a7-82c3-daff5c4d5111"
      },
      "execution_count": 53,
      "outputs": [
        {
          "output_type": "stream",
          "name": "stdout",
          "text": [
            "Scale Pos Weight: 20 \n",
            "Max Depth: 3 \n",
            "Subsample: 1 \n",
            "Min Child Weight: 1 \n",
            "ROC AUC: 0.643\n",
            "\n",
            "Scale Pos Weight: 26.5 \n",
            "Max Depth: 3 \n",
            "Subsample: 1 \n",
            "Min Child Weight: 1 \n",
            "ROC AUC: 0.643\n",
            "\n",
            "Scale Pos Weight: 30 \n",
            "Max Depth: 3 \n",
            "Subsample: 1 \n",
            "Min Child Weight: 1 \n",
            "ROC AUC: 0.643\n",
            "\n"
          ]
        }
      ]
    },
    {
      "cell_type": "code",
      "source": [
        "for subsample in [0.9, 0.8]:\n",
        "\tfit_and_score_gbm(subsample=subsample)"
      ],
      "metadata": {
        "colab": {
          "base_uri": "https://localhost:8080/"
        },
        "id": "BQzuJZzL-EvI",
        "outputId": "f2e015f0-ef1c-4d23-8df9-19a4c56ef997"
      },
      "execution_count": 55,
      "outputs": [
        {
          "output_type": "stream",
          "name": "stdout",
          "text": [
            "Scale Pos Weight: 1 \n",
            "Max Depth: 3 \n",
            "Subsample: 0.9 \n",
            "Min Child Weight: 1 \n",
            "ROC AUC: 0.644\n",
            "\n",
            "Scale Pos Weight: 1 \n",
            "Max Depth: 3 \n",
            "Subsample: 0.8 \n",
            "Min Child Weight: 1 \n",
            "ROC AUC: 0.644\n",
            "\n"
          ]
        }
      ]
    },
    {
      "cell_type": "code",
      "source": [
        "for subsample in [0.7]:\n",
        "\tfit_and_score_gbm(subsample=subsample)"
      ],
      "metadata": {
        "colab": {
          "base_uri": "https://localhost:8080/"
        },
        "id": "QgseCeSWCxRG",
        "outputId": "8d395ec0-b24d-44ab-d335-5adb2a6aeb64"
      },
      "execution_count": 56,
      "outputs": [
        {
          "output_type": "stream",
          "name": "stdout",
          "text": [
            "Scale Pos Weight: 1 \n",
            "Max Depth: 3 \n",
            "Subsample: 0.7 \n",
            "Min Child Weight: 1 \n",
            "ROC AUC: 0.643\n",
            "\n"
          ]
        }
      ]
    },
    {
      "cell_type": "code",
      "source": [
        "for min_child_weight in [3, 12]:\n",
        "\tfit_and_score_gbm(min_child_weight=min_child_weight)"
      ],
      "metadata": {
        "colab": {
          "base_uri": "https://localhost:8080/"
        },
        "id": "OaCtUkGMDHIo",
        "outputId": "dbf528c4-1328-4e41-b03a-ce5a9bf37722"
      },
      "execution_count": 57,
      "outputs": [
        {
          "output_type": "stream",
          "name": "stdout",
          "text": [
            "Scale Pos Weight: 1 \n",
            "Max Depth: 3 \n",
            "Subsample: 1 \n",
            "Min Child Weight: 3 \n",
            "ROC AUC: 0.644\n",
            "\n",
            "Scale Pos Weight: 1 \n",
            "Max Depth: 3 \n",
            "Subsample: 1 \n",
            "Min Child Weight: 12 \n",
            "ROC AUC: 0.642\n",
            "\n"
          ]
        }
      ]
    },
    {
      "cell_type": "code",
      "source": [
        "for max_depth in [2, 4]:\n",
        "\tfit_and_score_gbm(max_depth=max_depth)"
      ],
      "metadata": {
        "colab": {
          "base_uri": "https://localhost:8080/"
        },
        "id": "ww578mwGE6L0",
        "outputId": "cd2d06d4-84de-443f-dea1-0dfe468b3441"
      },
      "execution_count": 58,
      "outputs": [
        {
          "output_type": "stream",
          "name": "stdout",
          "text": [
            "Scale Pos Weight: 1 \n",
            "Max Depth: 2 \n",
            "Subsample: 1 \n",
            "Min Child Weight: 1 \n",
            "ROC AUC: 0.641\n",
            "\n",
            "Scale Pos Weight: 1 \n",
            "Max Depth: 4 \n",
            "Subsample: 1 \n",
            "Min Child Weight: 1 \n",
            "ROC AUC: 0.643\n",
            "\n"
          ]
        }
      ]
    },
    {
      "cell_type": "code",
      "source": [
        "for min_child_weight in [2,4]:\n",
        "\tfit_and_score_gbm(min_child_weight=min_child_weight)"
      ],
      "metadata": {
        "colab": {
          "base_uri": "https://localhost:8080/"
        },
        "id": "97opG7DQGBrE",
        "outputId": "a0d0cdeb-8b5e-444b-abff-f1c0501ec729"
      },
      "execution_count": 59,
      "outputs": [
        {
          "output_type": "stream",
          "name": "stdout",
          "text": [
            "Scale Pos Weight: 1 \n",
            "Max Depth: 3 \n",
            "Subsample: 1 \n",
            "Min Child Weight: 4 \n",
            "ROC AUC: 0.642\n",
            "\n"
          ]
        }
      ]
    },
    {
      "cell_type": "code",
      "source": [
        ""
      ],
      "metadata": {
        "id": "l5ArlqmlJ_vD"
      },
      "execution_count": null,
      "outputs": []
    },
    {
      "cell_type": "code",
      "source": [
        "import imblearn.over_sampling\n",
        "\n",
        "n_pos = np.sum(y_train == 1)\n",
        "n_neg = np.sum(y_train == 0)\n",
        "\n",
        "ratio2 = {1 : n_pos * 10, 0 : n_neg} \n",
        "\n",
        "ROS2 = imblearn.over_sampling.RandomOverSampler(sampling_strategy = ratio2, random_state=42)\n",
        "\n",
        "X_train_rs, y_train_rs = ROS2.fit_resample(X_train_25, y_train)"
      ],
      "metadata": {
        "id": "z5Z-bcaRFY1i"
      },
      "execution_count": 60,
      "outputs": []
    },
    {
      "cell_type": "code",
      "source": [
        "def fit_and_score_gbm_rebalance(X_train_new, y_train_new):\n",
        "    gbm = XGBClassifier( \n",
        "                        n_estimators=30000,\n",
        "                        max_depth=3,\n",
        "                        objective='binary:logistic', \n",
        "                        learning_rate=.05, \n",
        "                        subsample=0.9,\n",
        "                        min_child_weight=3,\n",
        "                        colsample_bytree=0.9,\n",
        "                        )\n",
        "\n",
        "    eval_set=[(X_train_new,y_train_new),(X_val_25,y_val)]\n",
        "    gbm.fit( \n",
        "            X_train_new, y_train_new, \n",
        "            eval_set=eval_set,\n",
        "            eval_metric='auc',\n",
        "            early_stopping_rounds=50,\n",
        "            verbose=False\n",
        "            )\n",
        "    auc = roc_auc_score(y_val, gbm.predict_proba(X_val_25)[:,1])\n",
        "    \n",
        "    print(f\"ROC AUC: {auc:.3f}\\n\")"
      ],
      "metadata": {
        "id": "uGhZR-oTGLrG"
      },
      "execution_count": 61,
      "outputs": []
    },
    {
      "cell_type": "code",
      "source": [
        "fit_and_score_gbm_rebalance(X_train_rs, y_train_rs)"
      ],
      "metadata": {
        "colab": {
          "base_uri": "https://localhost:8080/"
        },
        "id": "CDnUjgbCHTja",
        "outputId": "9537bfa7-c4a4-432c-d43d-61c4f2419811"
      },
      "execution_count": 62,
      "outputs": [
        {
          "output_type": "stream",
          "name": "stdout",
          "text": [
            "Scale Pos Weight: 30 \n",
            "Max Depth: 4 \n",
            "Subsample: 0.7 \n",
            "Min Child Weight: 4 \n",
            "ROC AUC: 0.644\n",
            "\n"
          ]
        }
      ]
    },
    {
      "cell_type": "code",
      "source": [
        "for colsample_bytree in [0.8,0.6]:\n",
        "\tfit_and_score_gbm(colsample_bytree=colsample_bytree)"
      ],
      "metadata": {
        "colab": {
          "base_uri": "https://localhost:8080/"
        },
        "id": "3IDUt9emKOh7",
        "outputId": "14bb393e-5ca0-4bec-e198-22f8d79cec0b"
      },
      "execution_count": 63,
      "outputs": [
        {
          "output_type": "stream",
          "name": "stdout",
          "text": [
            "Scale Pos Weight: 1 \n",
            "Max Depth: 3 \n",
            "Subsample: 1 \n",
            "Min Child Weight: 1 \n",
            "ROC AUC: 0.643\n",
            "\n",
            "Scale Pos Weight: 1 \n",
            "Max Depth: 3 \n",
            "Subsample: 1 \n",
            "Min Child Weight: 1 \n",
            "ROC AUC: 0.643\n",
            "\n"
          ]
        }
      ]
    },
    {
      "cell_type": "code",
      "execution_count": null,
      "metadata": {
        "id": "wUKJsGDbXd6z"
      },
      "outputs": [],
      "source": [
        "# from numpy import mean\n",
        "# # fit balanced xgboost on an imbalanced classification dataset\n",
        "# from sklearn.model_selection import cross_val_score\n",
        "# from sklearn.model_selection import RepeatedStratifiedKFold\n",
        "\n",
        "# # define model\n",
        "# model = XGBClassifier(scale_pos_weight=26.5)\n",
        "# # define evaluation procedure\n",
        "# cv = RepeatedStratifiedKFold(n_splits=10, n_repeats=3, random_state=1)\n",
        "# # evaluate model\n",
        "# scores = cross_val_score(model, X_train, y_train, scoring='roc_auc', cv=cv, n_jobs=-1)\n",
        "# # summarize performance\n",
        "# print('Mean ROC AUC: %.5f' % mean(scores))"
      ]
    }
  ],
  "metadata": {
    "colab": {
      "collapsed_sections": [],
      "name": "XGBoost_tuning.ipynb",
      "provenance": [],
      "mount_file_id": "1Ow5oY6VcfHzCUOMCsh_03HvOnZa6qFUt",
      "authorship_tag": "ABX9TyM6JFluHDsYJ603L+ZsBt8C"
    },
    "kernelspec": {
      "display_name": "Python 3",
      "name": "python3"
    },
    "language_info": {
      "name": "python"
    }
  },
  "nbformat": 4,
  "nbformat_minor": 0
}