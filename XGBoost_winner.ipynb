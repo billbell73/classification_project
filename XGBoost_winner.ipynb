{
  "nbformat": 4,
  "nbformat_minor": 0,
  "metadata": {
    "colab": {
      "name": "XGBoost_winner.ipynb",
      "provenance": [],
      "mount_file_id": "1crOmMqOFvQfvJDbOhcra-eGYeKW2-GzE",
      "authorship_tag": "ABX9TyOOXr4Lx8p3CQIMxByKyz8y"
    },
    "kernelspec": {
      "name": "python3",
      "display_name": "Python 3"
    },
    "language_info": {
      "name": "python"
    }
  },
  "cells": [
    {
      "cell_type": "code",
      "execution_count": null,
      "metadata": {
        "id": "Z_bi_HRzhtzs"
      },
      "outputs": [],
      "source": [
        "import pickle\n",
        "\n",
        "from sklearn.metrics import roc_auc_score\n",
        "\n",
        "from xgboost import XGBClassifier"
      ]
    },
    {
      "cell_type": "code",
      "execution_count": null,
      "metadata": {
        "id": "ztNv-rL4QeFA"
      },
      "outputs": [],
      "source": [
        "with open('/content/drive/MyDrive/datasets/ps_split_data_dict.pickle', 'rb') as file:\n",
        "    data_dict = pickle.load(file)"
      ]
    },
    {
      "cell_type": "code",
      "execution_count": null,
      "metadata": {
        "id": "6o-aO0qeb759"
      },
      "outputs": [],
      "source": [
        "y_train, y_val, y_holdout = data_dict['y_train'], data_dict['y_val'], data_dict['y_holdout']"
      ]
    },
    {
      "cell_type": "code",
      "source": [
        "with open('/content/drive/MyDrive/datasets/ps_split_data_dict_25.pickle', 'rb') as file:\n",
        "    data_dict_25 = pickle.load(file)"
      ],
      "metadata": {
        "id": "8tORCDApxBx4"
      },
      "execution_count": null,
      "outputs": []
    },
    {
      "cell_type": "code",
      "source": [
        "X_train_25, X_val_25, X_holdout_25 = data_dict_25['X_train_25'], data_dict_25['X_val_25'], data_dict_25['X_holdout_25']"
      ],
      "metadata": {
        "id": "Yks3a5zcw1NO"
      },
      "execution_count": null,
      "outputs": []
    },
    {
      "cell_type": "code",
      "source": [
        "xgb = XGBClassifier( \n",
        "                    n_estimators=30000,\n",
        "                    max_depth=4,\n",
        "                    objective='binary:logistic', \n",
        "                    learning_rate=.05, \n",
        "                    subsample=0.8,\n",
        "                    min_child_weight=3\n",
        "                    )\n",
        "\n",
        "eval_set=[(X_train_25,y_train),(X_val_25,y_val)]\n",
        "xgb.fit( \n",
        "        X_train_25, y_train, \n",
        "        eval_set=eval_set,\n",
        "        eval_metric='auc',\n",
        "        early_stopping_rounds=50,\n",
        "        verbose=False\n",
        "        )\n",
        "auc = roc_auc_score(y_val, xgb.predict_proba(X_val_25)[:,1])\n",
        "print(f\"ROC AUC: {auc:.3f}\\n\")"
      ],
      "metadata": {
        "colab": {
          "base_uri": "https://localhost:8080/"
        },
        "id": "xy4_WtF8z5_P",
        "outputId": "a85be4f6-2a17-453a-9158-7e4f05980cba"
      },
      "execution_count": null,
      "outputs": [
        {
          "output_type": "stream",
          "name": "stdout",
          "text": [
            "ROC AUC: 0.645\n",
            "\n"
          ]
        }
      ]
    },
    {
      "cell_type": "code",
      "source": [
        "roc_auc_score(y_holdout, xgb.predict_proba(X_holdout_25)[:,1])"
      ],
      "metadata": {
        "colab": {
          "base_uri": "https://localhost:8080/"
        },
        "id": "-hWJq7w23Ssf",
        "outputId": "9c44ae7b-dd97-4a91-8ada-5dab5ea554fe"
      },
      "execution_count": null,
      "outputs": [
        {
          "output_type": "execute_result",
          "data": {
            "text/plain": [
              "0.6413217140352176"
            ]
          },
          "metadata": {},
          "execution_count": 14
        }
      ]
    },
    {
      "cell_type": "code",
      "source": [
        "with open('/content/drive/MyDrive/datasets/xgb.pickle', 'wb') as file:\n",
        "    pickle.dump(xgb, file)"
      ],
      "metadata": {
        "id": "ep7P0UX_4Foz"
      },
      "execution_count": null,
      "outputs": []
    },
    {
      "cell_type": "code",
      "source": [
        "%run /content/drive/MyDrive/Colab\\ Notebooks/common_functions.ipynb"
      ],
      "metadata": {
        "id": "mSU-m0KK16hK"
      },
      "execution_count": null,
      "outputs": []
    },
    {
      "cell_type": "code",
      "source": [
        "eval_gini(y_val, xgb.predict_proba(X_val_25)[:,1])"
      ],
      "metadata": {
        "colab": {
          "base_uri": "https://localhost:8080/"
        },
        "id": "kVXO1CJ727nr",
        "outputId": "6f1aa5e2-af6e-4ade-a9ec-aa48d985485e"
      },
      "execution_count": null,
      "outputs": [
        {
          "output_type": "execute_result",
          "data": {
            "text/plain": [
              "0.28905424495694254"
            ]
          },
          "metadata": {},
          "execution_count": 12
        }
      ]
    },
    {
      "cell_type": "code",
      "source": [
        "eval_gini(y_holdout, xgb.predict_proba(X_holdout_25)[:,1])"
      ],
      "metadata": {
        "id": "pGZt0Lh76yiI",
        "colab": {
          "base_uri": "https://localhost:8080/"
        },
        "outputId": "8d5fb396-7c55-4bae-f0c7-530c72e3ebad"
      },
      "execution_count": 20,
      "outputs": [
        {
          "output_type": "execute_result",
          "data": {
            "text/plain": [
              "0.28264345166362126"
            ]
          },
          "metadata": {},
          "execution_count": 20
        }
      ]
    },
    {
      "cell_type": "code",
      "source": [
        "threshold_diagram(X_holdout_25, y_holdout, xgb)"
      ],
      "metadata": {
        "id": "K__SlLuo62XX",
        "colab": {
          "base_uri": "https://localhost:8080/",
          "height": 313
        },
        "outputId": "1a3f664a-85cd-45c1-a6e4-d4ed3eb760dd"
      },
      "execution_count": 21,
      "outputs": [
        {
          "output_type": "stream",
          "name": "stdout",
          "text": [
            "Best F1 score 0.123 at prob decision threshold >= 0.059\n"
          ]
        },
        {
          "output_type": "display_data",
          "data": {
            "image/png": "[encoded data removed]",
            "text/plain": [
              "<Figure size 432x288 with 1 Axes>"
            ]
          },
          "metadata": {
            "needs_background": "light"
          }
        }
      ]
    },
    {
      "cell_type": "code",
      "source": [
        "y_pred_holdout = (xgb.predict_proba(X_holdout_25)[:,1] >= 0.032)"
      ],
      "metadata": {
        "id": "9SXY9ThO65Ub"
      },
      "execution_count": 26,
      "outputs": []
    },
    {
      "cell_type": "code",
      "source": [
        "confusion_diagram_simple(y_holdout, y_pred_holdout)"
      ],
      "metadata": {
        "id": "mX_WXnKw684G",
        "colab": {
          "base_uri": "https://localhost:8080/",
          "height": 627
        },
        "outputId": "3f225329-8bb7-4790-89cf-3174d2c94cd4"
      },
      "execution_count": 27,
      "outputs": [
        {
          "output_type": "stream",
          "name": "stdout",
          "text": [
            "Percent claims in predicted no claim group: 2.39% \n",
            "Percent claims in predicted claim group: 5.11% \n",
            "\n",
            "Av payout per low risk member: $167.43 \n",
            "Av payout per high risk member: $358.03 \n",
            "\n",
            "Total Policies: 59522.00 \n",
            "Total Claims: 2219.00 \n",
            "Overall Percent claims 3.73%\n",
            "\n",
            "\n"
          ]
        },
        {
          "output_type": "display_data",
          "data": {
            "image/png": "[encoded data removed]",
            "text/plain": [
              "<Figure size 600x400 with 1 Axes>"
            ]
          },
          "metadata": {
            "needs_background": "light"
          }
        }
      ]
    }
  ]
}